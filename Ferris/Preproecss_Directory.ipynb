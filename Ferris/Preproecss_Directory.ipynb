{
 "cells": [
  {
   "cell_type": "code",
   "execution_count": 2,
   "metadata": {},
   "outputs": [],
   "source": [
    "import os\n",
    "import shutil\n",
    "import random\n",
    "\n",
    "PATH = \"./test\"\n",
    "targetpath = \"./data\"\n"
   ]
  },
  {
   "cell_type": "code",
   "execution_count": 3,
   "metadata": {},
   "outputs": [],
   "source": [
    "\n",
    "\n",
    "def Preprocess_Directory(dirpath = PATH,targetpath = targetpath,train_ratio = 0.7,test_ratio = 0.2,val_ratio = 0.1):\n",
    "    \n",
    "    if(not os.path.isdir(targetpath)) :\n",
    "        os.mkdir(targetpath)\n",
    "    \n",
    "    train_dir = os.path.join(targetpath,\"train\")\n",
    "    \n",
    "    test_dir = os.path.join(targetpath,\"test\")\n",
    "    \n",
    "    val_dir = os.path.join(targetpath,\"val\")\n",
    "    \n",
    "    if(not os.path.isdir(train_dir)) :\n",
    "        os.mkdir(train_dir)\n",
    "    if(not os.path.isdir(test_dir)) :\n",
    "        os.mkdir(test_dir)\n",
    "    if(not os.path.isdir(val_dir)) :\n",
    "        os.mkdir(val_dir)\n",
    "    \n",
    "    folders = os.listdir(dirpath)\n",
    "\n",
    "    for folder in folders:\n",
    "        files = os.listdir(os.path.join(dirpath,folder))\n",
    "        #total file count\n",
    "        filecount = len(files)\n",
    "        \n",
    "        test_cnt = (int)(filecount * test_ratio)\n",
    "        train_cnt = (int)(filecount * train_ratio)\n",
    "        val_cnt = filecount - test_cnt - train_cnt\n",
    "        i = 0\n",
    "        while i < train_cnt :\n",
    "            filename = random.choice(files)\n",
    "            src_filepath = os.path.join(dirpath,folder,filename)\n",
    "            train_folder = os.path.join(train_dir,folder)\n",
    "            if(not os.path.isdir(train_folder)) :\n",
    "             os.mkdir(train_folder)\n",
    "            tar_filepath = os.path.join(train_folder,filename)\n",
    "            if( not os.path.isfile(src_filepath)):\n",
    "                continue\n",
    "            shutil.move(src_filepath,tar_filepath) \n",
    "            i += 1\n",
    "        \n",
    "        i = 0\n",
    "        while i < test_cnt :\n",
    "            filename = random.choice(files)\n",
    "            src_filepath = os.path.join(dirpath,folder,filename)\n",
    "            test_folder = os.path.join(test_dir,folder)\n",
    "            if(not os.path.isdir(test_folder)) :\n",
    "             os.mkdir(test_folder)\n",
    "            tar_filepath = os.path.join(test_folder,filename)\n",
    "            if( not os.path.isfile(src_filepath)):\n",
    "                    continue\n",
    "            shutil.move(src_filepath,tar_filepath) \n",
    "            i += 1\n",
    "            \n",
    "        i = 0\n",
    "        while i < val_cnt :\n",
    "            filename = random.choice(files)\n",
    "            src_filepath = os.path.join(dirpath,folder,filename)\n",
    "            val_folder = os.path.join(val_dir,folder)\n",
    "            if(not os.path.isdir(val_folder)) :\n",
    "             os.mkdir(val_folder)\n",
    "            tar_filepath = os.path.join(val_folder,filename)\n",
    "            if( not os.path.isfile(src_filepath)):\n",
    "                    continue\n",
    "            shutil.move(src_filepath,tar_filepath) \n",
    "            i += 1\n",
    "        \n",
    "\n",
    "    \n",
    "Preprocess_Directory()"
   ]
  },
  {
   "cell_type": "code",
   "execution_count": null,
   "metadata": {},
   "outputs": [],
   "source": []
  }
 ],
 "metadata": {
  "kernelspec": {
   "display_name": "Python 3 (ipykernel)",
   "language": "python",
   "name": "python3"
  },
  "language_info": {
   "codemirror_mode": {
    "name": "ipython",
    "version": 3
   },
   "file_extension": ".py",
   "mimetype": "text/x-python",
   "name": "python",
   "nbconvert_exporter": "python",
   "pygments_lexer": "ipython3",
   "version": "3.9.7"
  },
  "vscode": {
   "interpreter": {
    "hash": "7a46f6e3e14530a4cb7ea8dda8ac71abc4debd776be88e3107807d8ded6e00a1"
   }
  }
 },
 "nbformat": 4,
 "nbformat_minor": 2
}
